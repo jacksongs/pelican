{
 "metadata": {
  "name": ""
 },
 "nbformat": 3,
 "nbformat_minor": 0,
 "worksheets": [
  {
   "cells": [
    {
     "cell_type": "code",
     "collapsed": false,
     "input": [
      "Testing"
     ],
     "language": "python",
     "metadata": {},
     "outputs": []
    },
    {
     "cell_type": "code",
     "collapsed": false,
     "input": [
      "%matplotlib inline\n",
      "import numpy as np\n",
      "import matplotlib.pyplot as plt\n",
      "import mpld3\n",
      "mpld3.enable_notebook()"
     ],
     "language": "python",
     "metadata": {},
     "outputs": [],
     "prompt_number": 2
    },
    {
     "cell_type": "code",
     "collapsed": false,
     "input": [
      "np.random.seed(0)\n",
      "plt.figure = pylab.figure(figsize = (4,3))\n",
      "plt.plot(np.random.rand(10));"
     ],
     "language": "python",
     "metadata": {},
     "outputs": [
      {
       "html": [
        "\n",
        "<style>\n",
        "\n",
        "</style>\n",
        "\n",
        "<div id=\"fig7318145497060006732472024\"></div>\n",
        "<script>\n",
        "function mpld3_load_lib(url, callback){\n",
        "  var s = document.createElement('script');\n",
        "  s.src = url;\n",
        "  s.async = true;\n",
        "  s.onreadystatechange = s.onload = callback;\n",
        "  s.onerror = function(){console.warn(\"failed to load library \" + url);};\n",
        "  document.getElementsByTagName(\"head\")[0].appendChild(s);\n",
        "}\n",
        "\n",
        "function create_fig7318145497060006732472024(){\n",
        "  \n",
        "  mpld3.draw_figure(\"fig7318145497060006732472024\", {\"width\": 320.0, \"axes\": [{\"xlim\": [0.0, 9.0], \"yscale\": \"linear\", \"axesbg\": \"#FFFFFF\", \"texts\": [], \"zoomable\": true, \"images\": [], \"xdomain\": [0.0, 9.0], \"ylim\": [0.30000000000000004, 1.0], \"paths\": [], \"sharey\": [], \"sharex\": [], \"axesbgalpha\": null, \"axes\": [{\"grid\": {\"gridOn\": false}, \"position\": \"bottom\", \"nticks\": 10, \"tickvalues\": null, \"tickformat\": null}, {\"grid\": {\"gridOn\": false}, \"position\": \"left\", \"nticks\": 8, \"tickvalues\": null, \"tickformat\": null}], \"lines\": [{\"color\": \"#0000FF\", \"yindex\": 1, \"coordinates\": \"data\", \"dasharray\": \"10,0\", \"zorder\": 2, \"alpha\": 1, \"xindex\": 0, \"linewidth\": 1.0, \"data\": \"data01\", \"id\": \"731814550594960\"}], \"markers\": [], \"id\": \"731814549707280\", \"ydomain\": [0.30000000000000004, 1.0], \"collections\": [], \"xscale\": \"linear\", \"bbox\": [0.125, 0.125, 0.77500000000000002, 0.77500000000000002]}], \"data\": {\"data01\": [[0.0, 0.5488135039273248], [1.0, 0.7151893663724195], [2.0, 0.6027633760716439], [3.0, 0.5448831829968969], [4.0, 0.4236547993389047], [5.0, 0.6458941130666561], [6.0, 0.4375872112626925], [7.0, 0.8917730007820798], [8.0, 0.9636627605010293], [9.0, 0.3834415188257777]]}, \"id\": \"731814549706000\", \"toolbar\": [\"reset\", \"move\"], \"height\": 240.0});\n",
        "}\n",
        "\n",
        "if(typeof(mpld3) !== \"undefined\"){\n",
        "   // already loaded: just create the figure\n",
        "   create_fig7318145497060006732472024();\n",
        "}else if(typeof define === \"function\" && define.amd){\n",
        "   // require.js is available: use it to load d3/mpld3\n",
        "   require.config({paths: {d3: \"http://d3js.org/d3.v3.min\"}});\n",
        "   require([\"d3\"], function(d3){\n",
        "      window.d3 = d3;\n",
        "      mpld3_load_lib(\"http://mpld3.github.io/js/mpld3.v0.1.js\", create_fig7318145497060006732472024);\n",
        "    });\n",
        "}else{\n",
        "    // require.js not available: dynamically load d3 & mpld3\n",
        "    mpld3_load_lib(\"http://d3js.org/d3.v3.min.js\", function(){\n",
        "        mpld3_load_lib(\"http://mpld3.github.io/js/mpld3.v0.1.js\", create_fig7318145497060006732472024);})\n",
        "}\n",
        "</script>"
       ],
       "metadata": {},
       "output_type": "display_data",
       "png": "[encoded data removed]",
       "text": [
        "<matplotlib.figure.Figure at 0x10f2f0110>"
       ]
      }
     ],
     "prompt_number": 3
    }
   ],
   "metadata": {}
  }
 ]
}